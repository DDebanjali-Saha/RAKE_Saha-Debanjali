{
  "nbformat": 4,
  "nbformat_minor": 0,
  "metadata": {
    "colab": {
      "provenance": []
    },
    "kernelspec": {
      "name": "python3",
      "display_name": "Python 3"
    },
    "language_info": {
      "name": "python"
    }
  },
  "cells": [
    {
      "cell_type": "code",
      "execution_count": null,
      "metadata": {
        "colab": {
          "base_uri": "https://localhost:8080/"
        },
        "id": "JK8wz0Rcxwcm",
        "outputId": "b2bc3942-7232-48b1-f17e-cfd8f949d6fa"
      },
      "outputs": [
        {
          "output_type": "stream",
          "name": "stdout",
          "text": [
            "Looking in indexes: https://pypi.org/simple, https://us-python.pkg.dev/colab-wheels/public/simple/\n",
            "Collecting pdfminer.six\n",
            "  Downloading pdfminer.six-20221105-py3-none-any.whl (5.6 MB)\n",
            "\u001b[2K     \u001b[90m━━━━━━━━━━━━━━━━━━━━━━━━━━━━━━━━━━━━━━━━\u001b[0m \u001b[32m5.6/5.6 MB\u001b[0m \u001b[31m43.0 MB/s\u001b[0m eta \u001b[36m0:00:00\u001b[0m\n",
            "\u001b[?25hRequirement already satisfied: cryptography>=36.0.0 in /usr/local/lib/python3.9/dist-packages (from pdfminer.six) (40.0.1)\n",
            "Requirement already satisfied: charset-normalizer>=2.0.0 in /usr/local/lib/python3.9/dist-packages (from pdfminer.six) (2.0.12)\n",
            "Requirement already satisfied: cffi>=1.12 in /usr/local/lib/python3.9/dist-packages (from cryptography>=36.0.0->pdfminer.six) (1.15.1)\n",
            "Requirement already satisfied: pycparser in /usr/local/lib/python3.9/dist-packages (from cffi>=1.12->cryptography>=36.0.0->pdfminer.six) (2.21)\n",
            "Installing collected packages: pdfminer.six\n",
            "Successfully installed pdfminer.six-20221105\n"
          ]
        }
      ],
      "source": [
        "pip install pdfminer.six"
      ]
    },
    {
      "cell_type": "code",
      "source": [
        "from pdfminer.high_level import extract_text\n",
        "from pdfminer.pdfinterp import PDFResourceManager, PDFPageInterpreter\n",
        "from pdfminer.converter import TextConverter\n",
        "from pdfminer.layout import LAParams\n",
        "from pdfminer.pdfpage import PDFPage\n",
        "from io import StringIO\n",
        "import os"
      ],
      "metadata": {
        "id": "lWCws3D0x7CK"
      },
      "execution_count": null,
      "outputs": []
    },
    {
      "cell_type": "code",
      "source": [
        "from google.colab import drive\n",
        "drive.mount('/content/gdrive')\n",
        "\n"
      ],
      "metadata": {
        "colab": {
          "base_uri": "https://localhost:8080/"
        },
        "id": "521kGG88x_xg",
        "outputId": "8b6e48ee-cb4a-4e22-8e9e-5e648c88d99c"
      },
      "execution_count": null,
      "outputs": [
        {
          "output_type": "stream",
          "name": "stdout",
          "text": [
            "Mounted at /content/gdrive\n"
          ]
        }
      ]
    },
    {
      "cell_type": "code",
      "source": [
        "def convert_pdf_to_txt(path):\n",
        "    rsrcmgr = PDFResourceManager()\n",
        "    retstr = StringIO()\n",
        "    codec = 'utf-8'\n",
        "    laparams = LAParams()\n",
        "    device = TextConverter(rsrcmgr, retstr, codec=codec, laparams=laparams)\n",
        "    fp = open(path, 'rb')\n",
        "    interpreter = PDFPageInterpreter(rsrcmgr, device)\n",
        "    password = \"\"\n",
        "    maxpages = 0\n",
        "    caching = True\n",
        "    pagenos=set()\n",
        "\n",
        "    for page in PDFPage.get_pages(fp, pagenos, maxpages=maxpages, password=password,caching=caching, check_extractable=True):\n",
        "        interpreter.process_page(page)\n",
        "\n",
        "    text = retstr.getvalue()\n",
        "\n",
        "    fp.close()\n",
        "    device.close()\n",
        "    retstr.close()\n",
        "    return text\n",
        "\n",
        "directory = '/content/gdrive/MyDrive/DONE READING- CSC'\n",
        "result = []\n",
        "for filename in os.scandir(directory):\n",
        "    if filename.is_file():\n",
        "        #print(filename.path)\n",
        "        try:\n",
        "          extract = convert_pdf_to_txt(filename.path)\n",
        "          result.append(extract)\n",
        "        except Exception:\n",
        "          print(\"ERROR\"+filename.path)\n",
        "          pass\n",
        "        "
      ],
      "metadata": {
        "colab": {
          "base_uri": "https://localhost:8080/"
        },
        "id": "oeUXYqMdy9h8",
        "outputId": "f703ef0d-45f5-44fc-e496-0e1d398b3223"
      },
      "execution_count": null,
      "outputs": [
        {
          "output_type": "stream",
          "name": "stdout",
          "text": [
            "/content/gdrive/MyDrive/DONE READING- CSC/71.pdf\n",
            "/content/gdrive/MyDrive/DONE READING- CSC/70.pdf\n",
            "/content/gdrive/MyDrive/DONE READING- CSC/1.pdf\n",
            "/content/gdrive/MyDrive/DONE READING- CSC/121.pdf\n",
            "/content/gdrive/MyDrive/DONE READING- CSC/116.pdf\n",
            "/content/gdrive/MyDrive/DONE READING- CSC/119.pdf\n",
            "/content/gdrive/MyDrive/DONE READING- CSC/2.pdf\n",
            "/content/gdrive/MyDrive/DONE READING- CSC/72.pdf\n",
            "/content/gdrive/MyDrive/DONE READING- CSC/74..pdf\n",
            "/content/gdrive/MyDrive/DONE READING- CSC/73.pdf\n",
            "/content/gdrive/MyDrive/DONE READING- CSC/63.pdf\n",
            "/content/gdrive/MyDrive/DONE READING- CSC/69.pdf\n",
            "/content/gdrive/MyDrive/DONE READING- CSC/79.pdf\n",
            "/content/gdrive/MyDrive/DONE READING- CSC/78.pdf\n",
            "/content/gdrive/MyDrive/DONE READING- CSC/77.pdf\n",
            "/content/gdrive/MyDrive/DONE READING- CSC/76.pdf\n",
            "/content/gdrive/MyDrive/DONE READING- CSC/75.pdf\n",
            "/content/gdrive/MyDrive/DONE READING- CSC/3.pdf\n",
            "/content/gdrive/MyDrive/DONE READING- CSC/5.pdf\n",
            "/content/gdrive/MyDrive/DONE READING- CSC/6.pdf\n",
            "/content/gdrive/MyDrive/DONE READING- CSC/25.pdf\n",
            "/content/gdrive/MyDrive/DONE READING- CSC/22.pdf\n",
            "/content/gdrive/MyDrive/DONE READING- CSC/23.pdf\n",
            "/content/gdrive/MyDrive/DONE READING- CSC/26.pdf\n",
            "/content/gdrive/MyDrive/DONE READING- CSC/21.pdf\n",
            "/content/gdrive/MyDrive/DONE READING- CSC/29.pdf\n",
            "/content/gdrive/MyDrive/DONE READING- CSC/27.pdf\n",
            "/content/gdrive/MyDrive/DONE READING- CSC/30.pdf\n",
            "/content/gdrive/MyDrive/DONE READING- CSC/19.pdf\n",
            "/content/gdrive/MyDrive/DONE READING- CSC/28.pdf\n",
            "/content/gdrive/MyDrive/DONE READING- CSC/24.pdf\n",
            "/content/gdrive/MyDrive/DONE READING- CSC/20.pdf\n",
            "/content/gdrive/MyDrive/DONE READING- CSC/18.pdf\n",
            "/content/gdrive/MyDrive/DONE READING- CSC/17.pdf\n",
            "/content/gdrive/MyDrive/DONE READING- CSC/11.pdf\n",
            "/content/gdrive/MyDrive/DONE READING- CSC/4.pdf\n",
            "/content/gdrive/MyDrive/DONE READING- CSC/8.pdf\n",
            "/content/gdrive/MyDrive/DONE READING- CSC/7.pdf\n",
            "/content/gdrive/MyDrive/DONE READING- CSC/10.pdf\n",
            "ERROR/content/gdrive/MyDrive/DONE READING- CSC/10.pdf\n",
            "/content/gdrive/MyDrive/DONE READING- CSC/12.pdf\n",
            "/content/gdrive/MyDrive/DONE READING- CSC/13.pdf\n",
            "/content/gdrive/MyDrive/DONE READING- CSC/14.pdf\n",
            "/content/gdrive/MyDrive/DONE READING- CSC/15.pdf\n",
            "/content/gdrive/MyDrive/DONE READING- CSC/16.pdf\n",
            "/content/gdrive/MyDrive/DONE READING- CSC/32.pdf\n",
            "/content/gdrive/MyDrive/DONE READING- CSC/31.pdf\n",
            "/content/gdrive/MyDrive/DONE READING- CSC/33.pdf\n",
            "/content/gdrive/MyDrive/DONE READING- CSC/36.pdf\n",
            "/content/gdrive/MyDrive/DONE READING- CSC/59.pdf\n",
            "/content/gdrive/MyDrive/DONE READING- CSC/66.pdf\n",
            "/content/gdrive/MyDrive/DONE READING- CSC/48.pdf\n",
            "/content/gdrive/MyDrive/DONE READING- CSC/53.pdf\n",
            "/content/gdrive/MyDrive/DONE READING- CSC/40.pdf\n",
            "/content/gdrive/MyDrive/DONE READING- CSC/42.pdf\n",
            "/content/gdrive/MyDrive/DONE READING- CSC/46.pdf\n",
            "/content/gdrive/MyDrive/DONE READING- CSC/35.pdf\n",
            "/content/gdrive/MyDrive/DONE READING- CSC/57.pdf\n",
            "/content/gdrive/MyDrive/DONE READING- CSC/44.pdf\n",
            "/content/gdrive/MyDrive/DONE READING- CSC/49.pdf\n",
            "/content/gdrive/MyDrive/DONE READING- CSC/37.pdf\n",
            "/content/gdrive/MyDrive/DONE READING- CSC/52.pdf\n",
            "/content/gdrive/MyDrive/DONE READING- CSC/62.pdf\n",
            "/content/gdrive/MyDrive/DONE READING- CSC/43.pdf\n",
            "/content/gdrive/MyDrive/DONE READING- CSC/51.pdf\n",
            "/content/gdrive/MyDrive/DONE READING- CSC/54.pdf\n",
            "/content/gdrive/MyDrive/DONE READING- CSC/41.pdf\n",
            "/content/gdrive/MyDrive/DONE READING- CSC/67.pdf\n",
            "/content/gdrive/MyDrive/DONE READING- CSC/65.pdf\n",
            "/content/gdrive/MyDrive/DONE READING- CSC/39.pdf\n",
            "/content/gdrive/MyDrive/DONE READING- CSC/38.pdf\n",
            "/content/gdrive/MyDrive/DONE READING- CSC/47.pdf\n",
            "/content/gdrive/MyDrive/DONE READING- CSC/58.pdf\n",
            "/content/gdrive/MyDrive/DONE READING- CSC/50.pdf\n",
            "/content/gdrive/MyDrive/DONE READING- CSC/55.pdf\n",
            "/content/gdrive/MyDrive/DONE READING- CSC/45.pdf\n",
            "/content/gdrive/MyDrive/DONE READING- CSC/68.pdf\n",
            "/content/gdrive/MyDrive/DONE READING- CSC/56.pdf\n",
            "/content/gdrive/MyDrive/DONE READING- CSC/60.pdf\n",
            "/content/gdrive/MyDrive/DONE READING- CSC/64.pdf\n",
            "/content/gdrive/MyDrive/DONE READING- CSC/61.pdf\n",
            "/content/gdrive/MyDrive/DONE READING- CSC/34.pdf\n",
            "/content/gdrive/MyDrive/DONE READING- CSC/9.pdf\n",
            "/content/gdrive/MyDrive/DONE READING- CSC/81.pdf\n",
            "/content/gdrive/MyDrive/DONE READING- CSC/80.pdf\n",
            "/content/gdrive/MyDrive/DONE READING- CSC/118.pdf\n",
            "/content/gdrive/MyDrive/DONE READING- CSC/87.pdf\n",
            "/content/gdrive/MyDrive/DONE READING- CSC/88.pdf\n",
            "/content/gdrive/MyDrive/DONE READING- CSC/90.pdf\n",
            "/content/gdrive/MyDrive/DONE READING- CSC/91.pdf\n",
            "/content/gdrive/MyDrive/DONE READING- CSC/92.pdf\n",
            "/content/gdrive/MyDrive/DONE READING- CSC/93.pdf\n",
            "/content/gdrive/MyDrive/DONE READING- CSC/120.pdf\n",
            "/content/gdrive/MyDrive/DONE READING- CSC/95.pdf\n",
            "/content/gdrive/MyDrive/DONE READING- CSC/96.pdf\n",
            "/content/gdrive/MyDrive/DONE READING- CSC/97.pdf\n",
            "/content/gdrive/MyDrive/DONE READING- CSC/98.pdf\n",
            "/content/gdrive/MyDrive/DONE READING- CSC/99.pdf\n",
            "/content/gdrive/MyDrive/DONE READING- CSC/100.pdf\n",
            "/content/gdrive/MyDrive/DONE READING- CSC/101.pdf\n",
            "/content/gdrive/MyDrive/DONE READING- CSC/102.pdf\n",
            "/content/gdrive/MyDrive/DONE READING- CSC/103.pdf\n",
            "/content/gdrive/MyDrive/DONE READING- CSC/104.pdf\n",
            "/content/gdrive/MyDrive/DONE READING- CSC/105.pdf\n",
            "/content/gdrive/MyDrive/DONE READING- CSC/106.pdf\n",
            "/content/gdrive/MyDrive/DONE READING- CSC/107.pdf\n",
            "/content/gdrive/MyDrive/DONE READING- CSC/108.pdf\n",
            "/content/gdrive/MyDrive/DONE READING- CSC/110.pdf\n",
            "/content/gdrive/MyDrive/DONE READING- CSC/109.pdf\n",
            "/content/gdrive/MyDrive/DONE READING- CSC/111.pdf\n",
            "/content/gdrive/MyDrive/DONE READING- CSC/112.pdf\n",
            "/content/gdrive/MyDrive/DONE READING- CSC/113.pdf\n",
            "/content/gdrive/MyDrive/DONE READING- CSC/114.pdf\n",
            "/content/gdrive/MyDrive/DONE READING- CSC/115.pdf\n",
            "/content/gdrive/MyDrive/DONE READING- CSC/117.pdf\n",
            "/content/gdrive/MyDrive/DONE READING- CSC/82.pdf\n",
            "/content/gdrive/MyDrive/DONE READING- CSC/83.pdf\n",
            "/content/gdrive/MyDrive/DONE READING- CSC/84.pdf\n",
            "/content/gdrive/MyDrive/DONE READING- CSC/85.pdf\n",
            "/content/gdrive/MyDrive/DONE READING- CSC/86.pdf\n",
            "/content/gdrive/MyDrive/DONE READING- CSC/89.pdf\n",
            "/content/gdrive/MyDrive/DONE READING- CSC/94.pdf\n"
          ]
        }
      ]
    },
    {
      "cell_type": "code",
      "source": [
        "len(result)"
      ],
      "metadata": {
        "colab": {
          "base_uri": "https://localhost:8080/"
        },
        "id": "PRoPFVuoy-IZ",
        "outputId": "dd29473e-613b-4552-a193-765f07596134"
      },
      "execution_count": null,
      "outputs": [
        {
          "output_type": "execute_result",
          "data": {
            "text/plain": [
              "120"
            ]
          },
          "metadata": {},
          "execution_count": 8
        }
      ]
    },
    {
      "cell_type": "code",
      "source": [
        "import nltk\n",
        "nltk.download('punkt')\n",
        "nltk.download('stopwords')\n",
        "from nltk.tokenize import word_tokenize\n",
        "from nltk.corpus import stopwords\n",
        "import collections\n",
        "import pandas as pd\n",
        "import matplotlib.pyplot as plt\n",
        "from string import digits\n",
        "import re\n"
      ],
      "metadata": {
        "colab": {
          "base_uri": "https://localhost:8080/"
        },
        "id": "FLE2HsSwIug9",
        "outputId": "ada480f9-c79d-4a55-8c9e-8fc4284b2856"
      },
      "execution_count": null,
      "outputs": [
        {
          "output_type": "stream",
          "name": "stderr",
          "text": [
            "[nltk_data] Downloading package punkt to /root/nltk_data...\n",
            "[nltk_data]   Unzipping tokenizers/punkt.zip.\n",
            "[nltk_data] Downloading package stopwords to /root/nltk_data...\n",
            "[nltk_data]   Unzipping corpora/stopwords.zip.\n"
          ]
        }
      ]
    },
    {
      "cell_type": "code",
      "source": [
        "punctuations = ['(',')',';',':','[',']',',']\n",
        "stop_words = stopwords.words('english')\n",
        "\n",
        "\n",
        "#for text in result:\n",
        "#  tokens = word_tokenize(text)\n",
        "# useless keywords\n",
        "useless_keywords = [\"table\", \"crossref\", \"of\", \"pp\", \"pubmed\", \"see\", \"forinstance\" \"huang\", \"etal\", \"huangetal\", \"wu\", \"avalentin\", \"jhspangenbergenvironimpactassessmentrev\", \"ment\", \"etc\", \"ie\", \"schu\", \"infig\", \"hinterbergerf\", \"et\",\"al\"]\n",
        "wordcount = {}\n",
        "text=\"\"\n",
        "for r in result:\n",
        "  text+=r\n",
        "tokens = word_tokenize(text)\n",
        "keywords = [word for word in tokens if not word in stop_words and  not word in punctuations]\n",
        "\n",
        "for word in keywords:\n",
        "\tword = word.lower()\n",
        "\tword = re.sub('[^a-zA-Z0-9\\n\\.]', ' ', word)\n",
        "\tword = ''.join([i for i in word if not i.isdigit()])\n",
        "\tword = word.replace(\".\",\"\")\n",
        "\tword = word.replace(\",\",\"\")\n",
        "\tword = word.replace(\":\",\"\")\n",
        "\tword = word.replace(\"\\\"\",\"\")\n",
        "\tword = word.replace(\"!\",\"\")\n",
        "\tword = word.replace(\"*\",\"\")\n",
        "\tword = word.replace(\" \",\"\")\n",
        "\tif word != '' and len(word) > 1 and word not in useless_keywords:\n",
        "\t\tif word not in wordcount:\n",
        "\t\t\twordcount[word] = 1\n",
        "\t\telse:\n",
        "\t\t\twordcount[word] += 1\n",
        "\n",
        "# Print most common word\n",
        "n_print = int(input(\"How many most common words to print: \"))\n",
        "print(\"\\nOK. The {} most common words are as follows\\n\".format(n_print))\n",
        "word_counter = collections.Counter(wordcount)\n",
        "for word, count in word_counter.most_common(n_print):\n",
        "    print(word, \": \", count)\n",
        "\n"
      ],
      "metadata": {
        "colab": {
          "base_uri": "https://localhost:8080/"
        },
        "id": "25sFPeDbMp3n",
        "outputId": "b7aac626-28b7-47e5-cc02-2f0003dbd0b8"
      },
      "execution_count": null,
      "outputs": [
        {
          "output_type": "stream",
          "name": "stdout",
          "text": [
            "How many most common words to print: 10\n",
            "\n",
            "OK. The 10 most common words are as follows\n",
            "\n",
            "housing :  11958\n",
            "the :  8476\n",
            "energy :  3268\n",
            "in :  3240\n",
            "social :  2723\n",
            "building :  2699\n",
            "urban :  2667\n",
            "sustainable :  2633\n",
            "criteria :  2559\n",
            "development :  2534\n"
          ]
        }
      ]
    }
  ]
}