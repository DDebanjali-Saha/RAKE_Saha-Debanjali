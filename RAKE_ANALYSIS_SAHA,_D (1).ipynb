{
  "nbformat": 4,
  "nbformat_minor": 0,
  "metadata": {
    "colab": {
      "provenance": []
    },
    "kernelspec": {
      "name": "python3",
      "display_name": "Python 3"
    },
    "language_info": {
      "name": "python"
    }
  },
  "cells": [
    {
      "cell_type": "code",
      "execution_count": 5,
      "metadata": {
        "colab": {
          "base_uri": "https://localhost:8080/"
        },
        "id": "JK8wz0Rcxwcm",
        "outputId": "4ab3c57a-54f6-4a1b-8c45-44aa799a35fb"
      },
      "outputs": [
        {
          "output_type": "stream",
          "name": "stdout",
          "text": [
            "Looking in indexes: https://pypi.org/simple, https://us-python.pkg.dev/colab-wheels/public/simple/\n",
            "Collecting pdfminer.six\n",
            "  Downloading pdfminer.six-20221105-py3-none-any.whl (5.6 MB)\n",
            "\u001b[2K     \u001b[90m━━━━━━━━━━━━━━━━━━━━━━━━━━━━━━━━━━━━━━━━\u001b[0m \u001b[32m5.6/5.6 MB\u001b[0m \u001b[31m57.9 MB/s\u001b[0m eta \u001b[36m0:00:00\u001b[0m\n",
            "\u001b[?25hRequirement already satisfied: charset-normalizer>=2.0.0 in /usr/local/lib/python3.9/dist-packages (from pdfminer.six) (2.0.12)\n",
            "Requirement already satisfied: cryptography>=36.0.0 in /usr/local/lib/python3.9/dist-packages (from pdfminer.six) (40.0.2)\n",
            "Requirement already satisfied: cffi>=1.12 in /usr/local/lib/python3.9/dist-packages (from cryptography>=36.0.0->pdfminer.six) (1.15.1)\n",
            "Requirement already satisfied: pycparser in /usr/local/lib/python3.9/dist-packages (from cffi>=1.12->cryptography>=36.0.0->pdfminer.six) (2.21)\n",
            "Installing collected packages: pdfminer.six\n",
            "Successfully installed pdfminer.six-20221105\n"
          ]
        }
      ],
      "source": [
        "pip install pdfminer.six"
      ]
    },
    {
      "cell_type": "code",
      "source": [
        "from pdfminer.high_level import extract_text\n",
        "from pdfminer.pdfinterp import PDFResourceManager, PDFPageInterpreter\n",
        "from pdfminer.converter import TextConverter\n",
        "from pdfminer.layout import LAParams\n",
        "from pdfminer.pdfpage import PDFPage\n",
        "from io import StringIO\n",
        "import os"
      ],
      "metadata": {
        "id": "lWCws3D0x7CK"
      },
      "execution_count": 7,
      "outputs": []
    },
    {
      "cell_type": "code",
      "source": [
        "from google.colab import drive\n",
        "drive.mount('/content/gdrive')\n",
        "\n"
      ],
      "metadata": {
        "colab": {
          "base_uri": "https://localhost:8080/"
        },
        "id": "521kGG88x_xg",
        "outputId": "f5541fd3-8b3c-4883-9680-f081eda8e35a"
      },
      "execution_count": 8,
      "outputs": [
        {
          "output_type": "stream",
          "name": "stdout",
          "text": [
            "Drive already mounted at /content/gdrive; to attempt to forcibly remount, call drive.mount(\"/content/gdrive\", force_remount=True).\n"
          ]
        }
      ]
    },
    {
      "cell_type": "code",
      "source": [
        "def convert_pdf_to_txt(path):\n",
        "    rsrcmgr = PDFResourceManager()\n",
        "    retstr = StringIO()\n",
        "    codec = 'utf-8'\n",
        "    laparams = LAParams()\n",
        "    device = TextConverter(rsrcmgr, retstr, codec=codec, laparams=laparams)\n",
        "    fp = open(path, 'rb')\n",
        "    interpreter = PDFPageInterpreter(rsrcmgr, device)\n",
        "    password = \"\"\n",
        "    maxpages = 0\n",
        "    caching = True\n",
        "    pagenos=set()\n",
        "\n",
        "    for page in PDFPage.get_pages(fp, pagenos, maxpages=maxpages, password=password,caching=caching, check_extractable=True):\n",
        "        interpreter.process_page(page)\n",
        "\n",
        "    text = retstr.getvalue()\n",
        "\n",
        "    fp.close()\n",
        "    device.close()\n",
        "    retstr.close()\n",
        "    return text\n",
        "\n",
        "directory = '/content/gdrive/MyDrive/RAKE'\n",
        "result = []\n",
        "for filename in os.scandir(directory):\n",
        "    if filename.is_file():\n",
        "        #print(filename.path)\n",
        "        try:\n",
        "          extract = convert_pdf_to_txt(filename.path)\n",
        "          result.append(extract)\n",
        "        except Exception:\n",
        "          print(\"ERROR\"+filename.path)\n",
        "          pass\n",
        "        "
      ],
      "metadata": {
        "colab": {
          "base_uri": "https://localhost:8080/"
        },
        "id": "oeUXYqMdy9h8",
        "outputId": "b22eb877-85ed-4393-f13e-de3137dd8a86"
      },
      "execution_count": 9,
      "outputs": [
        {
          "output_type": "stream",
          "name": "stdout",
          "text": [
            "ERROR/content/gdrive/MyDrive/RAKE/10.pdf\n",
            "ERROR/content/gdrive/MyDrive/RAKE/~$NVIVO.docx\n"
          ]
        }
      ]
    },
    {
      "cell_type": "code",
      "source": [
        "len(result)"
      ],
      "metadata": {
        "colab": {
          "base_uri": "https://localhost:8080/"
        },
        "id": "PRoPFVuoy-IZ",
        "outputId": "6aebff78-f7c0-4e1a-f065-e4fd175f683e"
      },
      "execution_count": 10,
      "outputs": [
        {
          "output_type": "execute_result",
          "data": {
            "text/plain": [
              "120"
            ]
          },
          "metadata": {},
          "execution_count": 10
        }
      ]
    },
    {
      "cell_type": "code",
      "source": [
        "import nltk\n",
        "nltk.download('punkt')\n",
        "nltk.download('stopwords')\n",
        "from nltk.tokenize import word_tokenize\n",
        "from nltk.corpus import stopwords\n",
        "import collections\n",
        "import pandas as pd\n",
        "import matplotlib.pyplot as plt\n",
        "from string import digits\n",
        "import re\n"
      ],
      "metadata": {
        "colab": {
          "base_uri": "https://localhost:8080/"
        },
        "id": "FLE2HsSwIug9",
        "outputId": "df83ba73-035f-41e3-be7e-4f01484b6bab"
      },
      "execution_count": 11,
      "outputs": [
        {
          "output_type": "stream",
          "name": "stderr",
          "text": [
            "[nltk_data] Downloading package punkt to /root/nltk_data...\n",
            "[nltk_data]   Unzipping tokenizers/punkt.zip.\n",
            "[nltk_data] Downloading package stopwords to /root/nltk_data...\n",
            "[nltk_data]   Unzipping corpora/stopwords.zip.\n"
          ]
        }
      ]
    },
    {
      "cell_type": "code",
      "source": [
        "punctuations = ['(',')',';',':','[',']',',']\n",
        "stop_words = stopwords.words('english')\n",
        "\n",
        "\n",
        "#for text in result:\n",
        "#  tokens = word_tokenize(text)\n",
        "# useless keywords\n",
        "useless_keywords = [\"table\", \"new\", \"using\", \"process\", \"available\", \"however\", \"within\", \"could\", \"level\", \"based\", \"data\", \"https\", \"used\", \"may\", \"the\", \"in\", \"it\", \"this\", \"also\", \"one\", \"cid\", \"crossref\", \"of\", \"pp\", \"pubmed\", \"see\", \"forinstance\" \"huang\", \"etal\", \"huangetal\", \"wu\", \"avalentin\", \"jhspangenbergenvironimpactassessmentrev\", \"ment\", \"etc\", \"ie\", \"schu\", \"infig\", \"hinterbergerf\", \"et\",\"al\"]\n",
        "wordcount = {}\n",
        "text=\"\"\n",
        "for r in result:\n",
        "  text+=r\n",
        "tokens = word_tokenize(text)\n",
        "keywords = [word for word in tokens if not word in stop_words and  not word in punctuations]\n",
        "\n",
        "for word in keywords:\n",
        "\tword = word.lower()\n",
        "\tword = re.sub('[^a-zA-Z0-9\\n\\.]', ' ', word)\n",
        "\tword = ''.join([i for i in word if not i.isdigit()])\n",
        "\tword = word.replace(\".\",\"\")\n",
        "\tword = word.replace(\",\",\"\")\n",
        "\tword = word.replace(\":\",\"\")\n",
        "\tword = word.replace(\"\\\"\",\"\")\n",
        "\tword = word.replace(\"!\",\"\")\n",
        "\tword = word.replace(\"*\",\"\")\n",
        "\tword = word.replace(\" \",\"\")\n",
        "\tif word != '' and len(word) > 1 and word not in useless_keywords:\n",
        "\t\tif word not in wordcount:\n",
        "\t\t\twordcount[word] = 1\n",
        "\t\telse:\n",
        "\t\t\twordcount[word] += 1\n",
        "\n",
        "# Print most common word\n",
        "n_print = int(input(\"How many most common words to print: \"))\n",
        "print(\"\\nOK. The {} most common words are as follows\\n\".format(n_print))\n",
        "word_counter = collections.Counter(wordcount)\n",
        "for word, count in word_counter.most_common(n_print):\n",
        "    print(word, \": \", count)\n",
        "\n"
      ],
      "metadata": {
        "colab": {
          "base_uri": "https://localhost:8080/"
        },
        "id": "25sFPeDbMp3n",
        "outputId": "53c526c9-3936-4b42-b925-46300c6f9cef"
      },
      "execution_count": 12,
      "outputs": [
        {
          "output_type": "stream",
          "name": "stdout",
          "text": [
            "How many most common words to print: 100\n",
            "\n",
            "OK. The 100 most common words are as follows\n",
            "\n",
            "housing :  12697\n",
            "energy :  3232\n",
            "social :  2793\n",
            "building :  2642\n",
            "urban :  2636\n",
            "criteria :  2556\n",
            "sustainable :  2549\n",
            "development :  2529\n",
            "project :  2470\n",
            "study :  2302\n",
            "public :  2275\n",
            "research :  2265\n",
            "affordable :  2240\n",
            "policy :  2160\n",
            "sustainability :  2021\n",
            "land :  2018\n",
            "construction :  2000\n",
            "analysis :  1972\n",
            "projects :  1900\n",
            "factors :  1891\n",
            "city :  1788\n",
            "management :  1755\n",
            "success :  1686\n",
            "household :  1686\n",
            "households :  1676\n",
            "market :  1646\n",
            "local :  1640\n",
            "income :  1621\n",
            "affordability :  1562\n",
            "cost :  1533\n",
            "use :  1510\n",
            "environmental :  1463\n",
            "government :  1440\n",
            "planning :  1434\n",
            "economic :  1413\n",
            "case :  1356\n",
            "quality :  1350\n",
            "house :  1328\n",
            "studies :  1323\n",
            "private :  1292\n",
            "community :  1265\n",
            "design :  1261\n",
            "areas :  1233\n",
            "access :  1214\n",
            "cities :  1202\n",
            "number :  1169\n",
            "time :  1168\n",
            "different :  1113\n",
            "sector :  1113\n",
            "approach :  1110\n",
            "high :  1093\n",
            "assessment :  1090\n",
            "performance :  1087\n",
            "costs :  1078\n",
            "two :  1077\n",
            "buildings :  1068\n",
            "area :  1052\n",
            "journal :  1049\n",
            "model :  1046\n",
            "green :  1044\n",
            "important :  1043\n",
            "critical :  1030\n",
            "people :  1023\n",
            "need :  1020\n",
            "results :  1015\n",
            "risk :  1015\n",
            "review :  1014\n",
            "countries :  1008\n",
            "environment :  1006\n",
            "supply :  993\n",
            "low :  968\n",
            "system :  964\n",
            "survey :  958\n",
            "would :  955\n",
            "rental :  953\n",
            "for :  945\n",
            "health :  942\n",
            "years :  937\n",
            "population :  920\n",
            "international :  919\n",
            "among :  915\n",
            "many :  914\n",
            "value :  911\n",
            "home :  906\n",
            "well :  903\n",
            "three :  887\n",
            "policies :  882\n",
            "impact :  882\n",
            "rent :  879\n",
            "therefore :  877\n",
            "property :  867\n",
            "as :  845\n",
            "residential :  845\n",
            "total :  790\n",
            "price :  788\n",
            "national :  785\n",
            "needs :  780\n",
            "framework :  778\n",
            "change :  776\n",
            "demand :  766\n"
          ]
        }
      ]
    }
  ]
}